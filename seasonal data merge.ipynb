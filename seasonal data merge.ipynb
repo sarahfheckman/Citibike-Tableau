{
 "cells": [
  {
   "cell_type": "code",
   "execution_count": 1,
   "metadata": {},
   "outputs": [],
   "source": [
    "import pandas as pd\n",
    "import numpy as np\n",
    "import datetime"
   ]
  },
  {
   "cell_type": "code",
   "execution_count": 9,
   "metadata": {},
   "outputs": [],
   "source": [
    "#winter merge \n",
    "w2017 = \"resources/winter/2017.csv\"\n",
    "w2018 = \"resources/winter/2018.csv\"\n",
    "w2019 = \"resources/winter/2019.csv\"\n",
    "\n",
    "# put into dataframes\n",
    "w2017_df = pd.read_csv(w2017)\n",
    "w2018_df = pd.read_csv(w2018)\n",
    "w2019_df = pd.read_csv(w2019)\n",
    "\n",
    "#change date column into datetime \n",
    "w2017_df['Date']=pd.to_datetime(w2017_df['Date'])\n",
    "w2018_df['Date']=pd.to_datetime(w2018_df['Date'])\n",
    "w2019_df['Date']=pd.to_datetime(w2019_df['Date'])\n",
    "\n",
    "#merge\n",
    "winter_citibike = pd.merge(w2017_df, w2018_df, how=\"outer\")\n",
    "winter_citibike = pd.merge(winter_citibike, w2019_df, how=\"outer\")\n",
    "winter_citibike\n",
    "\n",
    "#export \n",
    "winter_citibike.to_csv(\"winter.csv\", index=False)"
   ]
  },
  {
   "cell_type": "code",
   "execution_count": 11,
   "metadata": {},
   "outputs": [],
   "source": [
    "#spring merge \n",
    "sp2017 = \"resources/spring/2017.csv\"\n",
    "sp2018 = \"resources/spring/2018.csv\"\n",
    "\n",
    "# put into dataframes\n",
    "sp2017_df = pd.read_csv(sp2017)\n",
    "sp2018_df = pd.read_csv(sp2018)\n",
    "\n",
    "#change date column into datetime \n",
    "sp2017_df['Date']=pd.to_datetime(sp2017_df['Date'])\n",
    "sp2018_df['Date']=pd.to_datetime(sp2018_df['Date'])\n",
    "\n",
    "#merge\n",
    "spring_citibike = pd.merge(sp2017_df, sp2018_df, how=\"outer\")\n",
    "spring_citibike\n",
    "\n",
    "#export \n",
    "spring_citibike.to_csv(\"spring.csv\", index=False)"
   ]
  },
  {
   "cell_type": "code",
   "execution_count": 12,
   "metadata": {},
   "outputs": [],
   "source": [
    "#spring merge \n",
    "s2017 = \"resources/summer/2017.csv\"\n",
    "s2018 = \"resources/summer/2018.csv\"\n",
    "\n",
    "# put into dataframes\n",
    "s2017_df = pd.read_csv(s2017)\n",
    "s2018_df = pd.read_csv(s2018)\n",
    "\n",
    "#change date column into datetime \n",
    "s2017_df['Date']=pd.to_datetime(s2017_df['Date'])\n",
    "s2018_df['Date']=pd.to_datetime(s2018_df['Date'])\n",
    "\n",
    "#merge\n",
    "summer_citibike = pd.merge(sp2017_df, s2018_df, how=\"outer\")\n",
    "summer_citibike\n",
    "\n",
    "#export \n",
    "summer_citibike.to_csv(\"summer.csv\", index=False)"
   ]
  },
  {
   "cell_type": "code",
   "execution_count": null,
   "metadata": {},
   "outputs": [],
   "source": [
    "#spring merge \n",
    "s2017 = \"resources/summer/2017.csv\"\n",
    "s2018 = \"resources/summer/2018.csv\"\n",
    "\n",
    "# put into dataframes\n",
    "s2017_df = pd.read_csv(s2017)\n",
    "s2018_df = pd.read_csv(s2018)\n",
    "\n",
    "#change date column into datetime \n",
    "s2017_df['Date']=pd.to_datetime(s2017_df['Date'])\n",
    "s2018_df['Date']=pd.to_datetime(s2018_df['Date'])\n",
    "\n",
    "#merge\n",
    "summer_citibike = pd.merge(sp2017_df, s2018_df, how=\"outer\")\n",
    "summer_citibike\n",
    "\n",
    "#export \n",
    "summer_citibike.to_csv(\"summer.csv\", index=False)"
   ]
  }
 ],
 "metadata": {
  "kernelspec": {
   "display_name": "Python 3",
   "language": "python",
   "name": "python3"
  },
  "language_info": {
   "codemirror_mode": {
    "name": "ipython",
    "version": 3
   },
   "file_extension": ".py",
   "mimetype": "text/x-python",
   "name": "python",
   "nbconvert_exporter": "python",
   "pygments_lexer": "ipython3",
   "version": "3.7.1"
  }
 },
 "nbformat": 4,
 "nbformat_minor": 2
}
